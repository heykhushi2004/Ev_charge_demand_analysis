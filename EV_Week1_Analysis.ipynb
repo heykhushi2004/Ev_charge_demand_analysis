{
 "cells": [
  {
   "cell_type": "code",
   "execution_count": null,
   "id": "f7aebf4f",
   "metadata": {},
   "outputs": [],
   "source": [
    "import pandas as pd\n",
    "import matplotlib.pyplot as plt\n",
    "import seaborn as sns"
   ]
  },
  {
   "cell_type": "code",
   "execution_count": null,
   "id": "11e367e8",
   "metadata": {},
   "outputs": [],
   "source": [
    "df = pd.read_csv(\"3ae033f50fa345051652.csv\")\n",
    "df.head()"
   ]
  },
  {
   "cell_type": "code",
   "execution_count": null,
   "id": "f6a3fd2c",
   "metadata": {},
   "outputs": [],
   "source": [
    "df.info()"
   ]
  },
  {
   "cell_type": "code",
   "execution_count": null,
   "id": "0cf1514c",
   "metadata": {},
   "outputs": [],
   "source": [
    "df.isnull().sum()"
   ]
  },
  {
   "cell_type": "code",
   "execution_count": null,
   "id": "6a308b7c",
   "metadata": {},
   "outputs": [],
   "source": [
    "\n",
    "columns_to_convert = [\n",
    "    \"Battery Electric Vehicles (BEVs)\",\n",
    "    \"Plug-In Hybrid Electric Vehicles (PHEVs)\",\n",
    "    \"Electric Vehicle (EV) Total\",\n",
    "    \"Non-Electric Vehicle Total\",\n",
    "    \"Total Vehicles\"\n",
    "]\n",
    "\n",
    "for col in columns_to_convert:\n",
    "    df[col] = df[col].astype(str).str.replace(\",\", \"\")\n",
    "    df[col] = pd.to_numeric(df[col], errors='coerce')\n"
   ]
  },
  {
   "cell_type": "code",
   "execution_count": null,
   "id": "0fcffb3d",
   "metadata": {},
   "outputs": [],
   "source": [
    "df.describe()"
   ]
  },
  {
   "cell_type": "code",
   "execution_count": null,
   "id": "d8736dfc",
   "metadata": {},
   "outputs": [],
   "source": [
    "\n",
    "plt.figure(figsize=(10,6))\n",
    "sns.histplot(df[\"Percent Electric Vehicles\"], bins=30, kde=True)\n",
    "plt.title(\"Distribution of Percent Electric Vehicles\")\n",
    "plt.xlabel(\"Percent Electric Vehicles\")\n",
    "plt.ylabel(\"Frequency\")\n",
    "plt.show()\n"
   ]
  },
  {
   "cell_type": "code",
   "execution_count": null,
   "id": "297a0f90",
   "metadata": {},
   "outputs": [],
   "source": [
    "\n",
    "df[\"EV Type\"] = df[\"Battery Electric Vehicles (BEVs)\"] + df[\"Plug-In Hybrid Electric Vehicles (PHEVs)\"]\n",
    "ev_total = df[\"EV Type\"].sum()\n",
    "non_ev_total = df[\"Non-Electric Vehicle Total\"].sum()\n",
    "\n",
    "plt.figure(figsize=(6,6))\n",
    "plt.pie([ev_total, non_ev_total], labels=[\"EVs\", \"Non-EVs\"], autopct='%1.1f%%', startangle=90, colors=[\"green\", \"gray\"])\n",
    "plt.title(\"EVs vs Non-EVs\")\n",
    "plt.show()\n"
   ]
  },
  {
   "cell_type": "markdown",
   "id": "93cfaaa2",
   "metadata": {},
   "source": [
    "🚧 **Next Step: Outlier Treatment (To be continued in Week 2)**"
   ]
  }
 ],
 "metadata": {},
 "nbformat": 4,
 "nbformat_minor": 5
}
