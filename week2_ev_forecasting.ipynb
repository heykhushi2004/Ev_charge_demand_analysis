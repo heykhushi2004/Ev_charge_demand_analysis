
{
 "cells": [
  {
   "cell_type": "code",
   "execution_count": null,
   "metadata": {},
   "outputs": [],
   "source": [
    "# WEEK 2: EV FORECASTING MODEL\n",
    "import pandas as pd\n",
    "import numpy as np\n",
    "from sklearn.linear_model import LinearRegression\n",
    "from sklearn.model_selection import train_test_split\n",
    "import pickle\n",
    "\n",
    "df = pd.read_csv('ev dataset.csv')\n",
    "df['Date'] = pd.to_datetime(df['Date'], errors='coerce')\n",
    "df = df.dropna(subset=['Date'])\n",
    "df['Electric Vehicle (EV) Total'] = df['Electric Vehicle (EV) Total'].astype(str).str.replace(',', '')\n",
    "df['Electric Vehicle (EV) Total'] = pd.to_numeric(df['Electric Vehicle (EV) Total'], errors='coerce')\n",
    "df = df.dropna(subset=['Electric Vehicle (EV) Total'])\n",
    "monthly_df = df.groupby(pd.Grouper(key='Date', freq='M')).sum(numeric_only=True).reset_index()\n",
    "monthly_df['month'] = monthly_df['Date'].dt.month\n",
    "monthly_df['year'] = monthly_df['Date'].dt.year\n",
    "monthly_df.to_csv('preprocessed_ev_data.csv', index=False)\n",
    "X = monthly_df[['year', 'month']]\n",
    "y = monthly_df['Electric Vehicle (EV) Total']\n",
    "X_train, X_test, y_train, y_test = train_test_split(X, y, test_size=0.2, random_state=42)\n",
    "model = LinearRegression()\n",
    "model.fit(X_train, y_train)\n",
    "with open('forecasting_ev_model.pkl', 'wb') as f:\n",
    "    pickle.dump(model, f)\n"
   ]
  }
 ],
 "metadata": {
  "kernelspec": {
   "display_name": "Python 3",
   "language": "python",
   "name": "python3"
  },
  "language_info": {
   "name": "python",
   "version": "3.10"
  }
 },
 "nbformat": 4,
 "nbformat_minor": 5
}
